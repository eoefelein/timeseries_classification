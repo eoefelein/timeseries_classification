{
 "cells": [
  {
   "cell_type": "code",
   "execution_count": 65,
   "id": "e78b0775",
   "metadata": {},
   "outputs": [
    {
     "name": "stderr",
     "output_type": "stream",
     "text": [
      "\n",
      "Attaching package: ‘janitor’\n",
      "\n",
      "\n",
      "The following objects are masked from ‘package:stats’:\n",
      "\n",
      "    chisq.test, fisher.test\n",
      "\n",
      "\n"
     ]
    }
   ],
   "source": [
    "library(dplyr)\n",
    "library(sqldf)\n",
    "library(janitor)"
   ]
  },
  {
   "cell_type": "code",
   "execution_count": 2,
   "id": "1b046cf8",
   "metadata": {},
   "outputs": [],
   "source": [
    "school.data <- read.csv('data_analysis_task.csv') # read in data"
   ]
  },
  {
   "cell_type": "code",
   "execution_count": 3,
   "id": "cf5270d1",
   "metadata": {},
   "outputs": [
    {
     "data": {
      "text/html": [
       "19055"
      ],
      "text/latex": [
       "19055"
      ],
      "text/markdown": [
       "19055"
      ],
      "text/plain": [
       "[1] 19055"
      ]
     },
     "metadata": {},
     "output_type": "display_data"
    }
   ],
   "source": [
    "nrow(school.data) # check total num_rows"
   ]
  },
  {
   "cell_type": "code",
   "execution_count": 4,
   "id": "f5c0fffe",
   "metadata": {},
   "outputs": [
    {
     "data": {
      "text/html": [
       "29"
      ],
      "text/latex": [
       "29"
      ],
      "text/markdown": [
       "29"
      ],
      "text/plain": [
       "[1] 29"
      ]
     },
     "metadata": {},
     "output_type": "display_data"
    }
   ],
   "source": [
    "ncol(school.data) # check total num_columns"
   ]
  },
  {
   "cell_type": "code",
   "execution_count": 5,
   "id": "71899061",
   "metadata": {},
   "outputs": [
    {
     "data": {
      "text/html": [
       "<style>\n",
       ".list-inline {list-style: none; margin:0; padding: 0}\n",
       ".list-inline>li {display: inline-block}\n",
       ".list-inline>li:not(:last-child)::after {content: \"\\00b7\"; padding: 0 .5ex}\n",
       "</style>\n",
       "<ol class=list-inline><li>'FIPST'</li><li>'STABR'</li><li>'LEAID'</li><li>'LEA_NAME'</li><li>'MSTREET_1'</li><li>'MSTREET_2'</li><li>'MSTREET_3'</li><li>'MCITY'</li><li>'MSTATE'</li><li>'MZIP'</li><li>'MZIP4'</li><li>'LSTREET_1'</li><li>'LSTREET_2'</li><li>'LSTREET_3'</li><li>'LCITY'</li><li>'LSTATE'</li><li>'LZIP'</li><li>'LZIP4'</li><li>'PHONE'</li><li>'LEA_TYPE_TEXT'</li><li>'All.Students...American.Indian.Alaska.Native'</li><li>'All.Students...Asian'</li><li>'All.Students...Black'</li><li>'All.Students...Hispanic'</li><li>'All.Students...Two.or.More.Races'</li><li>'All.Students...Hawaiian.Native...Pacific.Islander'</li><li>'All.Students...White'</li><li>'All.Students'</li><li>'Grant.Amount'</li></ol>\n"
      ],
      "text/latex": [
       "\\begin{enumerate*}\n",
       "\\item 'FIPST'\n",
       "\\item 'STABR'\n",
       "\\item 'LEAID'\n",
       "\\item 'LEA\\_NAME'\n",
       "\\item 'MSTREET\\_1'\n",
       "\\item 'MSTREET\\_2'\n",
       "\\item 'MSTREET\\_3'\n",
       "\\item 'MCITY'\n",
       "\\item 'MSTATE'\n",
       "\\item 'MZIP'\n",
       "\\item 'MZIP4'\n",
       "\\item 'LSTREET\\_1'\n",
       "\\item 'LSTREET\\_2'\n",
       "\\item 'LSTREET\\_3'\n",
       "\\item 'LCITY'\n",
       "\\item 'LSTATE'\n",
       "\\item 'LZIP'\n",
       "\\item 'LZIP4'\n",
       "\\item 'PHONE'\n",
       "\\item 'LEA\\_TYPE\\_TEXT'\n",
       "\\item 'All.Students...American.Indian.Alaska.Native'\n",
       "\\item 'All.Students...Asian'\n",
       "\\item 'All.Students...Black'\n",
       "\\item 'All.Students...Hispanic'\n",
       "\\item 'All.Students...Two.or.More.Races'\n",
       "\\item 'All.Students...Hawaiian.Native...Pacific.Islander'\n",
       "\\item 'All.Students...White'\n",
       "\\item 'All.Students'\n",
       "\\item 'Grant.Amount'\n",
       "\\end{enumerate*}\n"
      ],
      "text/markdown": [
       "1. 'FIPST'\n",
       "2. 'STABR'\n",
       "3. 'LEAID'\n",
       "4. 'LEA_NAME'\n",
       "5. 'MSTREET_1'\n",
       "6. 'MSTREET_2'\n",
       "7. 'MSTREET_3'\n",
       "8. 'MCITY'\n",
       "9. 'MSTATE'\n",
       "10. 'MZIP'\n",
       "11. 'MZIP4'\n",
       "12. 'LSTREET_1'\n",
       "13. 'LSTREET_2'\n",
       "14. 'LSTREET_3'\n",
       "15. 'LCITY'\n",
       "16. 'LSTATE'\n",
       "17. 'LZIP'\n",
       "18. 'LZIP4'\n",
       "19. 'PHONE'\n",
       "20. 'LEA_TYPE_TEXT'\n",
       "21. 'All.Students...American.Indian.Alaska.Native'\n",
       "22. 'All.Students...Asian'\n",
       "23. 'All.Students...Black'\n",
       "24. 'All.Students...Hispanic'\n",
       "25. 'All.Students...Two.or.More.Races'\n",
       "26. 'All.Students...Hawaiian.Native...Pacific.Islander'\n",
       "27. 'All.Students...White'\n",
       "28. 'All.Students'\n",
       "29. 'Grant.Amount'\n",
       "\n",
       "\n"
      ],
      "text/plain": [
       " [1] \"FIPST\"                                            \n",
       " [2] \"STABR\"                                            \n",
       " [3] \"LEAID\"                                            \n",
       " [4] \"LEA_NAME\"                                         \n",
       " [5] \"MSTREET_1\"                                        \n",
       " [6] \"MSTREET_2\"                                        \n",
       " [7] \"MSTREET_3\"                                        \n",
       " [8] \"MCITY\"                                            \n",
       " [9] \"MSTATE\"                                           \n",
       "[10] \"MZIP\"                                             \n",
       "[11] \"MZIP4\"                                            \n",
       "[12] \"LSTREET_1\"                                        \n",
       "[13] \"LSTREET_2\"                                        \n",
       "[14] \"LSTREET_3\"                                        \n",
       "[15] \"LCITY\"                                            \n",
       "[16] \"LSTATE\"                                           \n",
       "[17] \"LZIP\"                                             \n",
       "[18] \"LZIP4\"                                            \n",
       "[19] \"PHONE\"                                            \n",
       "[20] \"LEA_TYPE_TEXT\"                                    \n",
       "[21] \"All.Students...American.Indian.Alaska.Native\"     \n",
       "[22] \"All.Students...Asian\"                             \n",
       "[23] \"All.Students...Black\"                             \n",
       "[24] \"All.Students...Hispanic\"                          \n",
       "[25] \"All.Students...Two.or.More.Races\"                 \n",
       "[26] \"All.Students...Hawaiian.Native...Pacific.Islander\"\n",
       "[27] \"All.Students...White\"                             \n",
       "[28] \"All.Students\"                                     \n",
       "[29] \"Grant.Amount\"                                     "
      ]
     },
     "metadata": {},
     "output_type": "display_data"
    }
   ],
   "source": [
    "colnames(school.data) # display column names"
   ]
  },
  {
   "cell_type": "markdown",
   "id": "80ad9788",
   "metadata": {},
   "source": [
    "# calculate the percentage of students in each district that are hispanic"
   ]
  },
  {
   "cell_type": "code",
   "execution_count": 108,
   "id": "4ca7881f",
   "metadata": {},
   "outputs": [
    {
     "name": "stdout",
     "output_type": "stream",
     "text": [
      " int [1:19055] NA 2546 1211 1081 534 NA 246 711 70 NA ...\n"
     ]
    }
   ],
   "source": [
    "str(school.data$All.Students...Hispanic) # data in this col is numeric"
   ]
  },
  {
   "cell_type": "code",
   "execution_count": 9,
   "id": "084adac8",
   "metadata": {},
   "outputs": [],
   "source": [
    "# create new column with percent_Hispanic per district\n",
    "new_school_data <- transform(school.data, perc_hispanic = All.Students...Hispanic / All.Students)\n"
   ]
  },
  {
   "cell_type": "code",
   "execution_count": 122,
   "id": "4996b323",
   "metadata": {},
   "outputs": [
    {
     "data": {
      "text/html": [
       "<table class=\"dataframe\">\n",
       "<caption>A data.frame: 10 × 1</caption>\n",
       "<thead>\n",
       "\t<tr><th></th><th scope=col>new_school_data.perc_hispanic</th></tr>\n",
       "\t<tr><th></th><th scope=col>&lt;dbl&gt;</th></tr>\n",
       "</thead>\n",
       "<tbody>\n",
       "\t<tr><th scope=row>1</th><td>        NA</td></tr>\n",
       "\t<tr><th scope=row>2</th><td>0.46741326</td></tr>\n",
       "\t<tr><th scope=row>3</th><td>0.21294180</td></tr>\n",
       "\t<tr><th scope=row>4</th><td>0.07755776</td></tr>\n",
       "\t<tr><th scope=row>5</th><td>0.05114943</td></tr>\n",
       "\t<tr><th scope=row>6</th><td>        NA</td></tr>\n",
       "\t<tr><th scope=row>7</th><td>0.12468322</td></tr>\n",
       "\t<tr><th scope=row>8</th><td>0.29761406</td></tr>\n",
       "\t<tr><th scope=row>9</th><td>0.01542190</td></tr>\n",
       "\t<tr><th scope=row>10</th><td>        NA</td></tr>\n",
       "</tbody>\n",
       "</table>\n"
      ],
      "text/latex": [
       "A data.frame: 10 × 1\n",
       "\\begin{tabular}{r|l}\n",
       "  & new\\_school\\_data.perc\\_hispanic\\\\\n",
       "  & <dbl>\\\\\n",
       "\\hline\n",
       "\t1 &         NA\\\\\n",
       "\t2 & 0.46741326\\\\\n",
       "\t3 & 0.21294180\\\\\n",
       "\t4 & 0.07755776\\\\\n",
       "\t5 & 0.05114943\\\\\n",
       "\t6 &         NA\\\\\n",
       "\t7 & 0.12468322\\\\\n",
       "\t8 & 0.29761406\\\\\n",
       "\t9 & 0.01542190\\\\\n",
       "\t10 &         NA\\\\\n",
       "\\end{tabular}\n"
      ],
      "text/markdown": [
       "\n",
       "A data.frame: 10 × 1\n",
       "\n",
       "| <!--/--> | new_school_data.perc_hispanic &lt;dbl&gt; |\n",
       "|---|---|\n",
       "| 1 |         NA |\n",
       "| 2 | 0.46741326 |\n",
       "| 3 | 0.21294180 |\n",
       "| 4 | 0.07755776 |\n",
       "| 5 | 0.05114943 |\n",
       "| 6 |         NA |\n",
       "| 7 | 0.12468322 |\n",
       "| 8 | 0.29761406 |\n",
       "| 9 | 0.01542190 |\n",
       "| 10 |         NA |\n",
       "\n"
      ],
      "text/plain": [
       "   new_school_data.perc_hispanic\n",
       "1          NA                   \n",
       "2  0.46741326                   \n",
       "3  0.21294180                   \n",
       "4  0.07755776                   \n",
       "5  0.05114943                   \n",
       "6          NA                   \n",
       "7  0.12468322                   \n",
       "8  0.29761406                   \n",
       "9  0.01542190                   \n",
       "10         NA                   "
      ]
     },
     "metadata": {},
     "output_type": "display_data"
    }
   ],
   "source": [
    "head(data.frame(new_school_data$perc_hispanic), 10)"
   ]
  },
  {
   "cell_type": "markdown",
   "id": "2118dad8",
   "metadata": {},
   "source": [
    "# identify districts that have 50% or more students who are Hispanic"
   ]
  },
  {
   "cell_type": "code",
   "execution_count": 119,
   "id": "dedaf780",
   "metadata": {
    "scrolled": true
   },
   "outputs": [
    {
     "data": {
      "text/html": [
       "<table class=\"dataframe\">\n",
       "<caption>A data.frame: 6 × 2</caption>\n",
       "<thead>\n",
       "\t<tr><th></th><th scope=col>LEAID</th><th scope=col>LEA_NAME</th></tr>\n",
       "\t<tr><th></th><th scope=col>&lt;int&gt;</th><th scope=col>&lt;chr&gt;</th></tr>\n",
       "</thead>\n",
       "<tbody>\n",
       "\t<tr><th scope=row>239</th><td>400005</td><td>Salome Consolidated Elementary District                     </td></tr>\n",
       "\t<tr><th scope=row>240</th><td>400016</td><td>Center for Academic Success  Inc.                           </td></tr>\n",
       "\t<tr><th scope=row>250</th><td>400033</td><td>Boys &amp; Girls Clubs of the East Valley dba Mesa Arts Academy </td></tr>\n",
       "\t<tr><th scope=row>254</th><td>400040</td><td>STEP UP Schools  Inc.                                       </td></tr>\n",
       "\t<tr><th scope=row>255</th><td>400041</td><td>Maricopa County Community College District dba Gateway Early</td></tr>\n",
       "\t<tr><th scope=row>258</th><td>400052</td><td>Espiritu Community Development Corp.                        </td></tr>\n",
       "</tbody>\n",
       "</table>\n"
      ],
      "text/latex": [
       "A data.frame: 6 × 2\n",
       "\\begin{tabular}{r|ll}\n",
       "  & LEAID & LEA\\_NAME\\\\\n",
       "  & <int> & <chr>\\\\\n",
       "\\hline\n",
       "\t239 & 400005 & Salome Consolidated Elementary District                     \\\\\n",
       "\t240 & 400016 & Center for Academic Success  Inc.                           \\\\\n",
       "\t250 & 400033 & Boys \\& Girls Clubs of the East Valley dba Mesa Arts Academy \\\\\n",
       "\t254 & 400040 & STEP UP Schools  Inc.                                       \\\\\n",
       "\t255 & 400041 & Maricopa County Community College District dba Gateway Early\\\\\n",
       "\t258 & 400052 & Espiritu Community Development Corp.                        \\\\\n",
       "\\end{tabular}\n"
      ],
      "text/markdown": [
       "\n",
       "A data.frame: 6 × 2\n",
       "\n",
       "| <!--/--> | LEAID &lt;int&gt; | LEA_NAME &lt;chr&gt; |\n",
       "|---|---|---|\n",
       "| 239 | 400005 | Salome Consolidated Elementary District                      |\n",
       "| 240 | 400016 | Center for Academic Success  Inc.                            |\n",
       "| 250 | 400033 | Boys &amp; Girls Clubs of the East Valley dba Mesa Arts Academy  |\n",
       "| 254 | 400040 | STEP UP Schools  Inc.                                        |\n",
       "| 255 | 400041 | Maricopa County Community College District dba Gateway Early |\n",
       "| 258 | 400052 | Espiritu Community Development Corp.                         |\n",
       "\n"
      ],
      "text/plain": [
       "    LEAID  LEA_NAME                                                    \n",
       "239 400005 Salome Consolidated Elementary District                     \n",
       "240 400016 Center for Academic Success  Inc.                           \n",
       "250 400033 Boys & Girls Clubs of the East Valley dba Mesa Arts Academy \n",
       "254 400040 STEP UP Schools  Inc.                                       \n",
       "255 400041 Maricopa County Community College District dba Gateway Early\n",
       "258 400052 Espiritu Community Development Corp.                        "
      ]
     },
     "metadata": {},
     "output_type": "display_data"
    }
   ],
   "source": [
    "subset(new_school_data, perc_hispanic >= 0.5)[,3:4]"
   ]
  },
  {
   "cell_type": "markdown",
   "id": "3a94d837",
   "metadata": {},
   "source": [
    "# identify districts that receive grants greater than \\\\$100,000"
   ]
  },
  {
   "cell_type": "code",
   "execution_count": 111,
   "id": "ddc039f0",
   "metadata": {},
   "outputs": [
    {
     "name": "stdout",
     "output_type": "stream",
     "text": [
      " chr [1:19055] \"\" \"\" \"\" \"\" \"\" \"\" \"\" \"\" \"\" \"\" \"\" \"\" \"\" \"\" \"\" \"\" \"\" \"\" \"\" \"\" ...\n"
     ]
    }
   ],
   "source": [
    "str(school.data$Grant.Amount) # data in this col is char"
   ]
  },
  {
   "cell_type": "code",
   "execution_count": 112,
   "id": "21450a75",
   "metadata": {},
   "outputs": [
    {
     "data": {
      "text/html": [
       "1117"
      ],
      "text/latex": [
       "1117"
      ],
      "text/markdown": [
       "1117"
      ],
      "text/plain": [
       "[1] 1117"
      ]
     },
     "metadata": {},
     "output_type": "display_data"
    }
   ],
   "source": [
    "# number of rows for which grant.amount data is present\n",
    "nrow(school.data) - nrow(school.data[school.data$Grant.Amount == '', ])"
   ]
  },
  {
   "cell_type": "code",
   "execution_count": 113,
   "id": "96c7078d",
   "metadata": {},
   "outputs": [],
   "source": [
    "# convert to numeric\n",
    "new_school_data$Grant.Amount <- as.numeric(gsub('[$,]', '', new_school_data$Grant.Amount))"
   ]
  },
  {
   "cell_type": "code",
   "execution_count": 13,
   "id": "f15d7d87",
   "metadata": {
    "scrolled": true
   },
   "outputs": [
    {
     "data": {
      "text/html": [
       "<table class=\"dataframe\">\n",
       "<caption>A data.frame: 103 × 2</caption>\n",
       "<thead>\n",
       "\t<tr><th></th><th scope=col>LEAID</th><th scope=col>LEA_NAME</th></tr>\n",
       "\t<tr><th></th><th scope=col>&lt;int&gt;</th><th scope=col>&lt;chr&gt;</th></tr>\n",
       "</thead>\n",
       "<tbody>\n",
       "\t<tr><th scope=row>60</th><td>100194</td><td>Pelham City                                 </td></tr>\n",
       "\t<tr><th scope=row>128</th><td>102040</td><td>Lawrence County                             </td></tr>\n",
       "\t<tr><th scope=row>178</th><td>103480</td><td>Washington County                           </td></tr>\n",
       "\t<tr><th scope=row>182</th><td>200001</td><td>Lower Kuskokwim School District             </td></tr>\n",
       "\t<tr><th scope=row>183</th><td>200003</td><td>Lower Yukon School District                 </td></tr>\n",
       "\t<tr><th scope=row>186</th><td>200006</td><td>Mount Edgecumbe High School Agency          </td></tr>\n",
       "\t<tr><th scope=row>189</th><td>200020</td><td>Bering Strait School District               </td></tr>\n",
       "\t<tr><th scope=row>197</th><td>200130</td><td>Galena City School District                 </td></tr>\n",
       "\t<tr><th scope=row>198</th><td>200150</td><td>Ketchikan Gateway Borough School District   </td></tr>\n",
       "\t<tr><th scope=row>199</th><td>200180</td><td>Anchorage School District                   </td></tr>\n",
       "\t<tr><th scope=row>200</th><td>200210</td><td>Juneau Borough School District              </td></tr>\n",
       "\t<tr><th scope=row>206</th><td>200390</td><td>Kenai Peninsula Borough School District     </td></tr>\n",
       "\t<tr><th scope=row>208</th><td>200480</td><td>Kodiak Island Borough School District       </td></tr>\n",
       "\t<tr><th scope=row>210</th><td>200510</td><td>Matanuska-Susitna Borough School District   </td></tr>\n",
       "\t<tr><th scope=row>215</th><td>200600</td><td>Fairbanks North Star Borough School District</td></tr>\n",
       "\t<tr><th scope=row>216</th><td>200610</td><td>North Slope Borough School District         </td></tr>\n",
       "\t<tr><th scope=row>217</th><td>200625</td><td>Northwest Arctic Borough School District    </td></tr>\n",
       "\t<tr><th scope=row>224</th><td>200710</td><td>Southwest Region School District            </td></tr>\n",
       "\t<tr><th scope=row>235</th><td>200862</td><td>Yukon-Koyukuk School District               </td></tr>\n",
       "\t<tr><th scope=row>246</th><td>400023</td><td>Pinon Unified District                      </td></tr>\n",
       "\t<tr><th scope=row>769</th><td>401940</td><td>Chinle Unified District                     </td></tr>\n",
       "\t<tr><th scope=row>788</th><td>402860</td><td>Flagstaff Unified District                  </td></tr>\n",
       "\t<tr><th scope=row>797</th><td>403290</td><td>Ganado Unified School District              </td></tr>\n",
       "\t<tr><th scope=row>808</th><td>403820</td><td>Holbrook Unified District                   </td></tr>\n",
       "\t<tr><th scope=row>812</th><td>403950</td><td>Baboquivari Unified School District #40     </td></tr>\n",
       "\t<tr><th scope=row>835</th><td>404970</td><td>Mesa Unified District                       </td></tr>\n",
       "\t<tr><th scope=row>853</th><td>405820</td><td>Page Unified District                       </td></tr>\n",
       "\t<tr><th scope=row>882</th><td>406960</td><td>San Carlos Unified District                 </td></tr>\n",
       "\t<tr><th scope=row>895</th><td>407570</td><td>Scottsdale Unified District                 </td></tr>\n",
       "\t<tr><th scope=row>912</th><td>408340</td><td>Tempe Union High School District            </td></tr>\n",
       "\t<tr><th scope=row>⋮</th><td>⋮</td><td>⋮</td></tr>\n",
       "\t<tr><th scope=row>13833</th><td>4010590</td><td>EDMOND                              </td></tr>\n",
       "\t<tr><th scope=row>13879</th><td>4013530</td><td>GROVE                               </td></tr>\n",
       "\t<tr><th scope=row>13940</th><td>4017250</td><td>LAWTON                              </td></tr>\n",
       "\t<tr><th scope=row>13949</th><td>4018000</td><td>LOCUST GROVE                        </td></tr>\n",
       "\t<tr><th scope=row>13986</th><td>4020250</td><td>MOORE                               </td></tr>\n",
       "\t<tr><th scope=row>13996</th><td>4020970</td><td>MUSKOGEE                            </td></tr>\n",
       "\t<tr><th scope=row>14006</th><td>4021720</td><td>NORMAN                              </td></tr>\n",
       "\t<tr><th scope=row>14019</th><td>4022770</td><td>OKLAHOMA CITY                       </td></tr>\n",
       "\t<tr><th scope=row>14025</th><td>4023040</td><td>OOLOGAH-TALALA                      </td></tr>\n",
       "\t<tr><th scope=row>14029</th><td>4023280</td><td>OWASSO                              </td></tr>\n",
       "\t<tr><th scope=row>14079</th><td>4026790</td><td>SALLISAW                            </td></tr>\n",
       "\t<tr><th scope=row>14093</th><td>4027570</td><td>SHAWNEE                             </td></tr>\n",
       "\t<tr><th scope=row>14096</th><td>4027750</td><td>SKIATOOK                            </td></tr>\n",
       "\t<tr><th scope=row>14109</th><td>4028710</td><td>STILWELL                            </td></tr>\n",
       "\t<tr><th scope=row>14136</th><td>4030240</td><td>TULSA                               </td></tr>\n",
       "\t<tr><th scope=row>14146</th><td>4030600</td><td>UNION                               </td></tr>\n",
       "\t<tr><th scope=row>14197</th><td>4033480</td><td>YUKON                               </td></tr>\n",
       "\t<tr><th scope=row>14320</th><td>4106740</td><td>Jefferson County SD 509J            </td></tr>\n",
       "\t<tr><th scope=row>14386</th><td>4110820</td><td>Salem-Keizer SD 24J                 </td></tr>\n",
       "\t<tr><th scope=row>15518</th><td>4659820</td><td>Rapid City Area School District 51-4</td></tr>\n",
       "\t<tr><th scope=row>15524</th><td>4665460</td><td>Oglala Lakota County 65-1           </td></tr>\n",
       "\t<tr><th scope=row>15532</th><td>4672090</td><td>Todd County School District 66-1    </td></tr>\n",
       "\t<tr><th scope=row>17088</th><td>4900360</td><td>GRANITE DISTRICT                    </td></tr>\n",
       "\t<tr><th scope=row>17112</th><td>4901080</td><td>UINTAH DISTRICT                     </td></tr>\n",
       "\t<tr><th scope=row>17868</th><td>5304860</td><td>Marysville School District          </td></tr>\n",
       "\t<tr><th scope=row>18008</th><td>5309480</td><td>Wapato School District              </td></tr>\n",
       "\t<tr><th scope=row>18354</th><td>5509070</td><td>Menominee Indian School District    </td></tr>\n",
       "\t<tr><th scope=row>18579</th><td>5602820</td><td>Fremont County School District #21  </td></tr>\n",
       "\t<tr><th scope=row>18593</th><td>5604450</td><td>Fremont County School District #14  </td></tr>\n",
       "\t<tr><th scope=row>18600</th><td>5605220</td><td>Fremont County School District #25  </td></tr>\n",
       "</tbody>\n",
       "</table>\n"
      ],
      "text/latex": [
       "A data.frame: 103 × 2\n",
       "\\begin{tabular}{r|ll}\n",
       "  & LEAID & LEA\\_NAME\\\\\n",
       "  & <int> & <chr>\\\\\n",
       "\\hline\n",
       "\t60 & 100194 & Pelham City                                 \\\\\n",
       "\t128 & 102040 & Lawrence County                             \\\\\n",
       "\t178 & 103480 & Washington County                           \\\\\n",
       "\t182 & 200001 & Lower Kuskokwim School District             \\\\\n",
       "\t183 & 200003 & Lower Yukon School District                 \\\\\n",
       "\t186 & 200006 & Mount Edgecumbe High School Agency          \\\\\n",
       "\t189 & 200020 & Bering Strait School District               \\\\\n",
       "\t197 & 200130 & Galena City School District                 \\\\\n",
       "\t198 & 200150 & Ketchikan Gateway Borough School District   \\\\\n",
       "\t199 & 200180 & Anchorage School District                   \\\\\n",
       "\t200 & 200210 & Juneau Borough School District              \\\\\n",
       "\t206 & 200390 & Kenai Peninsula Borough School District     \\\\\n",
       "\t208 & 200480 & Kodiak Island Borough School District       \\\\\n",
       "\t210 & 200510 & Matanuska-Susitna Borough School District   \\\\\n",
       "\t215 & 200600 & Fairbanks North Star Borough School District\\\\\n",
       "\t216 & 200610 & North Slope Borough School District         \\\\\n",
       "\t217 & 200625 & Northwest Arctic Borough School District    \\\\\n",
       "\t224 & 200710 & Southwest Region School District            \\\\\n",
       "\t235 & 200862 & Yukon-Koyukuk School District               \\\\\n",
       "\t246 & 400023 & Pinon Unified District                      \\\\\n",
       "\t769 & 401940 & Chinle Unified District                     \\\\\n",
       "\t788 & 402860 & Flagstaff Unified District                  \\\\\n",
       "\t797 & 403290 & Ganado Unified School District              \\\\\n",
       "\t808 & 403820 & Holbrook Unified District                   \\\\\n",
       "\t812 & 403950 & Baboquivari Unified School District \\#40     \\\\\n",
       "\t835 & 404970 & Mesa Unified District                       \\\\\n",
       "\t853 & 405820 & Page Unified District                       \\\\\n",
       "\t882 & 406960 & San Carlos Unified District                 \\\\\n",
       "\t895 & 407570 & Scottsdale Unified District                 \\\\\n",
       "\t912 & 408340 & Tempe Union High School District            \\\\\n",
       "\t⋮ & ⋮ & ⋮\\\\\n",
       "\t13833 & 4010590 & EDMOND                              \\\\\n",
       "\t13879 & 4013530 & GROVE                               \\\\\n",
       "\t13940 & 4017250 & LAWTON                              \\\\\n",
       "\t13949 & 4018000 & LOCUST GROVE                        \\\\\n",
       "\t13986 & 4020250 & MOORE                               \\\\\n",
       "\t13996 & 4020970 & MUSKOGEE                            \\\\\n",
       "\t14006 & 4021720 & NORMAN                              \\\\\n",
       "\t14019 & 4022770 & OKLAHOMA CITY                       \\\\\n",
       "\t14025 & 4023040 & OOLOGAH-TALALA                      \\\\\n",
       "\t14029 & 4023280 & OWASSO                              \\\\\n",
       "\t14079 & 4026790 & SALLISAW                            \\\\\n",
       "\t14093 & 4027570 & SHAWNEE                             \\\\\n",
       "\t14096 & 4027750 & SKIATOOK                            \\\\\n",
       "\t14109 & 4028710 & STILWELL                            \\\\\n",
       "\t14136 & 4030240 & TULSA                               \\\\\n",
       "\t14146 & 4030600 & UNION                               \\\\\n",
       "\t14197 & 4033480 & YUKON                               \\\\\n",
       "\t14320 & 4106740 & Jefferson County SD 509J            \\\\\n",
       "\t14386 & 4110820 & Salem-Keizer SD 24J                 \\\\\n",
       "\t15518 & 4659820 & Rapid City Area School District 51-4\\\\\n",
       "\t15524 & 4665460 & Oglala Lakota County 65-1           \\\\\n",
       "\t15532 & 4672090 & Todd County School District 66-1    \\\\\n",
       "\t17088 & 4900360 & GRANITE DISTRICT                    \\\\\n",
       "\t17112 & 4901080 & UINTAH DISTRICT                     \\\\\n",
       "\t17868 & 5304860 & Marysville School District          \\\\\n",
       "\t18008 & 5309480 & Wapato School District              \\\\\n",
       "\t18354 & 5509070 & Menominee Indian School District    \\\\\n",
       "\t18579 & 5602820 & Fremont County School District \\#21  \\\\\n",
       "\t18593 & 5604450 & Fremont County School District \\#14  \\\\\n",
       "\t18600 & 5605220 & Fremont County School District \\#25  \\\\\n",
       "\\end{tabular}\n"
      ],
      "text/markdown": [
       "\n",
       "A data.frame: 103 × 2\n",
       "\n",
       "| <!--/--> | LEAID &lt;int&gt; | LEA_NAME &lt;chr&gt; |\n",
       "|---|---|---|\n",
       "| 60 | 100194 | Pelham City                                  |\n",
       "| 128 | 102040 | Lawrence County                              |\n",
       "| 178 | 103480 | Washington County                            |\n",
       "| 182 | 200001 | Lower Kuskokwim School District              |\n",
       "| 183 | 200003 | Lower Yukon School District                  |\n",
       "| 186 | 200006 | Mount Edgecumbe High School Agency           |\n",
       "| 189 | 200020 | Bering Strait School District                |\n",
       "| 197 | 200130 | Galena City School District                  |\n",
       "| 198 | 200150 | Ketchikan Gateway Borough School District    |\n",
       "| 199 | 200180 | Anchorage School District                    |\n",
       "| 200 | 200210 | Juneau Borough School District               |\n",
       "| 206 | 200390 | Kenai Peninsula Borough School District      |\n",
       "| 208 | 200480 | Kodiak Island Borough School District        |\n",
       "| 210 | 200510 | Matanuska-Susitna Borough School District    |\n",
       "| 215 | 200600 | Fairbanks North Star Borough School District |\n",
       "| 216 | 200610 | North Slope Borough School District          |\n",
       "| 217 | 200625 | Northwest Arctic Borough School District     |\n",
       "| 224 | 200710 | Southwest Region School District             |\n",
       "| 235 | 200862 | Yukon-Koyukuk School District                |\n",
       "| 246 | 400023 | Pinon Unified District                       |\n",
       "| 769 | 401940 | Chinle Unified District                      |\n",
       "| 788 | 402860 | Flagstaff Unified District                   |\n",
       "| 797 | 403290 | Ganado Unified School District               |\n",
       "| 808 | 403820 | Holbrook Unified District                    |\n",
       "| 812 | 403950 | Baboquivari Unified School District #40      |\n",
       "| 835 | 404970 | Mesa Unified District                        |\n",
       "| 853 | 405820 | Page Unified District                        |\n",
       "| 882 | 406960 | San Carlos Unified District                  |\n",
       "| 895 | 407570 | Scottsdale Unified District                  |\n",
       "| 912 | 408340 | Tempe Union High School District             |\n",
       "| ⋮ | ⋮ | ⋮ |\n",
       "| 13833 | 4010590 | EDMOND                               |\n",
       "| 13879 | 4013530 | GROVE                                |\n",
       "| 13940 | 4017250 | LAWTON                               |\n",
       "| 13949 | 4018000 | LOCUST GROVE                         |\n",
       "| 13986 | 4020250 | MOORE                                |\n",
       "| 13996 | 4020970 | MUSKOGEE                             |\n",
       "| 14006 | 4021720 | NORMAN                               |\n",
       "| 14019 | 4022770 | OKLAHOMA CITY                        |\n",
       "| 14025 | 4023040 | OOLOGAH-TALALA                       |\n",
       "| 14029 | 4023280 | OWASSO                               |\n",
       "| 14079 | 4026790 | SALLISAW                             |\n",
       "| 14093 | 4027570 | SHAWNEE                              |\n",
       "| 14096 | 4027750 | SKIATOOK                             |\n",
       "| 14109 | 4028710 | STILWELL                             |\n",
       "| 14136 | 4030240 | TULSA                                |\n",
       "| 14146 | 4030600 | UNION                                |\n",
       "| 14197 | 4033480 | YUKON                                |\n",
       "| 14320 | 4106740 | Jefferson County SD 509J             |\n",
       "| 14386 | 4110820 | Salem-Keizer SD 24J                  |\n",
       "| 15518 | 4659820 | Rapid City Area School District 51-4 |\n",
       "| 15524 | 4665460 | Oglala Lakota County 65-1            |\n",
       "| 15532 | 4672090 | Todd County School District 66-1     |\n",
       "| 17088 | 4900360 | GRANITE DISTRICT                     |\n",
       "| 17112 | 4901080 | UINTAH DISTRICT                      |\n",
       "| 17868 | 5304860 | Marysville School District           |\n",
       "| 18008 | 5309480 | Wapato School District               |\n",
       "| 18354 | 5509070 | Menominee Indian School District     |\n",
       "| 18579 | 5602820 | Fremont County School District #21   |\n",
       "| 18593 | 5604450 | Fremont County School District #14   |\n",
       "| 18600 | 5605220 | Fremont County School District #25   |\n",
       "\n"
      ],
      "text/plain": [
       "      LEAID   LEA_NAME                                    \n",
       "60    100194  Pelham City                                 \n",
       "128   102040  Lawrence County                             \n",
       "178   103480  Washington County                           \n",
       "182   200001  Lower Kuskokwim School District             \n",
       "183   200003  Lower Yukon School District                 \n",
       "186   200006  Mount Edgecumbe High School Agency          \n",
       "189   200020  Bering Strait School District               \n",
       "197   200130  Galena City School District                 \n",
       "198   200150  Ketchikan Gateway Borough School District   \n",
       "199   200180  Anchorage School District                   \n",
       "200   200210  Juneau Borough School District              \n",
       "206   200390  Kenai Peninsula Borough School District     \n",
       "208   200480  Kodiak Island Borough School District       \n",
       "210   200510  Matanuska-Susitna Borough School District   \n",
       "215   200600  Fairbanks North Star Borough School District\n",
       "216   200610  North Slope Borough School District         \n",
       "217   200625  Northwest Arctic Borough School District    \n",
       "224   200710  Southwest Region School District            \n",
       "235   200862  Yukon-Koyukuk School District               \n",
       "246   400023  Pinon Unified District                      \n",
       "769   401940  Chinle Unified District                     \n",
       "788   402860  Flagstaff Unified District                  \n",
       "797   403290  Ganado Unified School District              \n",
       "808   403820  Holbrook Unified District                   \n",
       "812   403950  Baboquivari Unified School District #40     \n",
       "835   404970  Mesa Unified District                       \n",
       "853   405820  Page Unified District                       \n",
       "882   406960  San Carlos Unified District                 \n",
       "895   407570  Scottsdale Unified District                 \n",
       "912   408340  Tempe Union High School District            \n",
       "⋮     ⋮       ⋮                                           \n",
       "13833 4010590 EDMOND                                      \n",
       "13879 4013530 GROVE                                       \n",
       "13940 4017250 LAWTON                                      \n",
       "13949 4018000 LOCUST GROVE                                \n",
       "13986 4020250 MOORE                                       \n",
       "13996 4020970 MUSKOGEE                                    \n",
       "14006 4021720 NORMAN                                      \n",
       "14019 4022770 OKLAHOMA CITY                               \n",
       "14025 4023040 OOLOGAH-TALALA                              \n",
       "14029 4023280 OWASSO                                      \n",
       "14079 4026790 SALLISAW                                    \n",
       "14093 4027570 SHAWNEE                                     \n",
       "14096 4027750 SKIATOOK                                    \n",
       "14109 4028710 STILWELL                                    \n",
       "14136 4030240 TULSA                                       \n",
       "14146 4030600 UNION                                       \n",
       "14197 4033480 YUKON                                       \n",
       "14320 4106740 Jefferson County SD 509J                    \n",
       "14386 4110820 Salem-Keizer SD 24J                         \n",
       "15518 4659820 Rapid City Area School District 51-4        \n",
       "15524 4665460 Oglala Lakota County 65-1                   \n",
       "15532 4672090 Todd County School District 66-1            \n",
       "17088 4900360 GRANITE DISTRICT                            \n",
       "17112 4901080 UINTAH DISTRICT                             \n",
       "17868 5304860 Marysville School District                  \n",
       "18008 5309480 Wapato School District                      \n",
       "18354 5509070 Menominee Indian School District            \n",
       "18579 5602820 Fremont County School District #21          \n",
       "18593 5604450 Fremont County School District #14          \n",
       "18600 5605220 Fremont County School District #25          "
      ]
     },
     "metadata": {},
     "output_type": "display_data"
    }
   ],
   "source": [
    "subset(new_school_data, Grant.Amount > 100000)[,3:4]"
   ]
  },
  {
   "cell_type": "markdown",
   "id": "c8eef146",
   "metadata": {},
   "source": [
    "# provide a summary that shows the number of LEAs in each of the blue cells"
   ]
  },
  {
   "cell_type": "code",
   "execution_count": 32,
   "id": "32ace2c2",
   "metadata": {},
   "outputs": [],
   "source": [
    "new_school_data %>% \n",
    "  mutate(category = case_when(\n",
    "    perc_hispanic >= 0.50 & Grant.Amount > 100000 ~ \"greater/equal to 50% Hispanic, large grant\",\n",
    "    perc_hispanic < 0.50 & Grant.Amount > 100000 ~ \"less than 50% Hispanic, large grant\",\n",
    "    is.na(perc_hispanic) & Grant.Amount > 100000 ~ \"unknown Hispanic, large grant\",\n",
    "    perc_hispanic >= 0.50 & Grant.Amount <= 100000 ~ \"greater/equal to 50% Hispanic, little grant\",\n",
    "    perc_hispanic < 0.50 & Grant.Amount <= 100000 ~ \"less than 50% Hispanic, little grant\",\n",
    "    is.na(perc_hispanic) & Grant.Amount <= 100000 ~ \"unknown Hispanic, little grant\",\n",
    "    perc_hispanic >= 0.50 & is.na(Grant.Amount) ~ \"greater/equal to 50% Hispanic, no grant\",\n",
    "    perc_hispanic < 0.50 & is.na(Grant.Amount) ~ \"less than 50% Hispanic, no grant\",\n",
    "    is.na(perc_hispanic) & is.na(Grant.Amount) ~ \"unknown Hispanic and no grant data\",\n",
    "  )\n",
    ") -> new_school_data"
   ]
  },
  {
   "cell_type": "code",
   "execution_count": 33,
   "id": "a1a82688",
   "metadata": {},
   "outputs": [
    {
     "data": {
      "text/html": [
       "<table class=\"dataframe\">\n",
       "<caption>A data.frame: 8 × 2</caption>\n",
       "<thead>\n",
       "\t<tr><th scope=col>NUM</th><th scope=col>category</th></tr>\n",
       "\t<tr><th scope=col>&lt;int&gt;</th><th scope=col>&lt;chr&gt;</th></tr>\n",
       "</thead>\n",
       "<tbody>\n",
       "\t<tr><td>    7</td><td>greater/equal to 50% Hispanic, large grant </td></tr>\n",
       "\t<tr><td>   60</td><td>greater/equal to 50% Hispanic, little grant</td></tr>\n",
       "\t<tr><td> 1605</td><td>greater/equal to 50% Hispanic, no grant    </td></tr>\n",
       "\t<tr><td>   96</td><td>less than 50% Hispanic, large grant        </td></tr>\n",
       "\t<tr><td>  932</td><td>less than 50% Hispanic, little grant       </td></tr>\n",
       "\t<tr><td>13548</td><td>less than 50% Hispanic, no grant           </td></tr>\n",
       "\t<tr><td> 2785</td><td>unknown Hispanic and no grant data         </td></tr>\n",
       "\t<tr><td>   22</td><td>unknown Hispanic, little grant             </td></tr>\n",
       "</tbody>\n",
       "</table>\n"
      ],
      "text/latex": [
       "A data.frame: 8 × 2\n",
       "\\begin{tabular}{ll}\n",
       " NUM & category\\\\\n",
       " <int> & <chr>\\\\\n",
       "\\hline\n",
       "\t     7 & greater/equal to 50\\% Hispanic, large grant \\\\\n",
       "\t    60 & greater/equal to 50\\% Hispanic, little grant\\\\\n",
       "\t  1605 & greater/equal to 50\\% Hispanic, no grant    \\\\\n",
       "\t    96 & less than 50\\% Hispanic, large grant        \\\\\n",
       "\t   932 & less than 50\\% Hispanic, little grant       \\\\\n",
       "\t 13548 & less than 50\\% Hispanic, no grant           \\\\\n",
       "\t  2785 & unknown Hispanic and no grant data         \\\\\n",
       "\t    22 & unknown Hispanic, little grant             \\\\\n",
       "\\end{tabular}\n"
      ],
      "text/markdown": [
       "\n",
       "A data.frame: 8 × 2\n",
       "\n",
       "| NUM &lt;int&gt; | category &lt;chr&gt; |\n",
       "|---|---|\n",
       "|     7 | greater/equal to 50% Hispanic, large grant  |\n",
       "|    60 | greater/equal to 50% Hispanic, little grant |\n",
       "|  1605 | greater/equal to 50% Hispanic, no grant     |\n",
       "|    96 | less than 50% Hispanic, large grant         |\n",
       "|   932 | less than 50% Hispanic, little grant        |\n",
       "| 13548 | less than 50% Hispanic, no grant            |\n",
       "|  2785 | unknown Hispanic and no grant data          |\n",
       "|    22 | unknown Hispanic, little grant              |\n",
       "\n"
      ],
      "text/plain": [
       "  NUM   category                                   \n",
       "1     7 greater/equal to 50% Hispanic, large grant \n",
       "2    60 greater/equal to 50% Hispanic, little grant\n",
       "3  1605 greater/equal to 50% Hispanic, no grant    \n",
       "4    96 less than 50% Hispanic, large grant        \n",
       "5   932 less than 50% Hispanic, little grant       \n",
       "6 13548 less than 50% Hispanic, no grant           \n",
       "7  2785 unknown Hispanic and no grant data         \n",
       "8    22 unknown Hispanic, little grant             "
      ]
     },
     "metadata": {},
     "output_type": "display_data"
    }
   ],
   "source": [
    "# using sqldf library\n",
    "df <- sqldf(\"SELECT Count(1) as NUM, category FROM new_school_data GROUP BY category\")\n",
    "df"
   ]
  },
  {
   "cell_type": "markdown",
   "id": "223b00be",
   "metadata": {},
   "source": [
    "# the following sums will be used to check final table sums"
   ]
  },
  {
   "cell_type": "code",
   "execution_count": 91,
   "id": "4b71aa8f",
   "metadata": {},
   "outputs": [
    {
     "data": {
      "text/html": [
       "<table class=\"dataframe\">\n",
       "<caption>A data.frame: 3 × 1</caption>\n",
       "<thead>\n",
       "\t<tr><th scope=col>NUM</th></tr>\n",
       "\t<tr><th scope=col>&lt;int&gt;</th></tr>\n",
       "</thead>\n",
       "<tbody>\n",
       "\t<tr><td>  103</td></tr>\n",
       "\t<tr><td> 1014</td></tr>\n",
       "\t<tr><td>17938</td></tr>\n",
       "</tbody>\n",
       "</table>\n"
      ],
      "text/latex": [
       "A data.frame: 3 × 1\n",
       "\\begin{tabular}{l}\n",
       " NUM\\\\\n",
       " <int>\\\\\n",
       "\\hline\n",
       "\t   103\\\\\n",
       "\t  1014\\\\\n",
       "\t 17938\\\\\n",
       "\\end{tabular}\n"
      ],
      "text/markdown": [
       "\n",
       "A data.frame: 3 × 1\n",
       "\n",
       "| NUM &lt;int&gt; |\n",
       "|---|\n",
       "|   103 |\n",
       "|  1014 |\n",
       "| 17938 |\n",
       "\n"
      ],
      "text/plain": [
       "  NUM  \n",
       "1   103\n",
       "2  1014\n",
       "3 17938"
      ]
     },
     "metadata": {},
     "output_type": "display_data"
    }
   ],
   "source": [
    "# get sums of grants\n",
    "sqldf(\"SELECT SUM(num) AS NUM\n",
    "FROM (SELECT category, Count(1) as NUM FROM new_school_data GROUP BY category) sub \n",
    "WHERE category LIKE '%large%' \n",
    "UNION\n",
    "SELECT SUM(num) AS NUM \n",
    "FROM (SELECT category, Count(1) as NUM FROM new_school_data GROUP BY category) sub \n",
    "WHERE category LIKE '%little%' \n",
    "UNION\n",
    "SELECT SUM(num) AS NUM\n",
    "FROM (SELECT category, Count(1) as NUM FROM new_school_data GROUP BY category) sub \n",
    "WHERE category LIKE '%no grant%'\n",
    "\")"
   ]
  },
  {
   "cell_type": "code",
   "execution_count": 73,
   "id": "47f8897e",
   "metadata": {},
   "outputs": [
    {
     "data": {
      "text/html": [
       "<table class=\"dataframe\">\n",
       "<caption>A data.frame: 3 × 1</caption>\n",
       "<thead>\n",
       "\t<tr><th scope=col>NUM</th></tr>\n",
       "\t<tr><th scope=col>&lt;int&gt;</th></tr>\n",
       "</thead>\n",
       "<tbody>\n",
       "\t<tr><td> 1672</td></tr>\n",
       "\t<tr><td> 2807</td></tr>\n",
       "\t<tr><td>14576</td></tr>\n",
       "</tbody>\n",
       "</table>\n"
      ],
      "text/latex": [
       "A data.frame: 3 × 1\n",
       "\\begin{tabular}{l}\n",
       " NUM\\\\\n",
       " <int>\\\\\n",
       "\\hline\n",
       "\t  1672\\\\\n",
       "\t  2807\\\\\n",
       "\t 14576\\\\\n",
       "\\end{tabular}\n"
      ],
      "text/markdown": [
       "\n",
       "A data.frame: 3 × 1\n",
       "\n",
       "| NUM &lt;int&gt; |\n",
       "|---|\n",
       "|  1672 |\n",
       "|  2807 |\n",
       "| 14576 |\n",
       "\n"
      ],
      "text/plain": [
       "  NUM  \n",
       "1  1672\n",
       "2  2807\n",
       "3 14576"
      ]
     },
     "metadata": {},
     "output_type": "display_data"
    }
   ],
   "source": [
    "# get sums of Hispanic students\n",
    "sqldf(\"SELECT SUM(num) AS NUM\n",
    "FROM (SELECT category, Count(1) as NUM FROM new_school_data GROUP BY category) sub \n",
    "WHERE category LIKE '%greater/equal%' \n",
    "UNION\n",
    "SELECT SUM(num) AS NUM \n",
    "FROM (SELECT category, Count(1) as NUM FROM new_school_data GROUP BY category) sub \n",
    "WHERE category LIKE '%less%' \n",
    "UNION\n",
    "SELECT SUM(num) AS NUM\n",
    "FROM (SELECT category, Count(1) as NUM FROM new_school_data GROUP BY category) sub \n",
    "WHERE category LIKE '%unknown%'\n",
    "\")"
   ]
  },
  {
   "cell_type": "markdown",
   "id": "fffd8d9e",
   "metadata": {},
   "source": [
    "# reshape data to form specified in Excel doc"
   ]
  },
  {
   "cell_type": "code",
   "execution_count": 35,
   "id": "4d8dd156",
   "metadata": {},
   "outputs": [],
   "source": [
    "df_stats <- list(df['NUM'])"
   ]
  },
  {
   "cell_type": "code",
   "execution_count": 94,
   "id": "a2490174",
   "metadata": {},
   "outputs": [
    {
     "name": "stderr",
     "output_type": "stream",
     "text": [
      "Warning message in matrix(unlist(df_stats), nrow = 3, ncol = 3):\n",
      "“data length [8] is not a sub-multiple or multiple of the number of rows [3]”\n"
     ]
    }
   ],
   "source": [
    "df_reshape <- matrix(unlist(df_stats), nrow = 3, ncol = 3)"
   ]
  },
  {
   "cell_type": "code",
   "execution_count": 101,
   "id": "a38f85c0",
   "metadata": {},
   "outputs": [],
   "source": [
    "# fixing order of unknown column\n",
    "df_reshape[3,3] <- 2785\n",
    "df_reshape[1,3] <- 0"
   ]
  },
  {
   "cell_type": "code",
   "execution_count": 102,
   "id": "94fed8ef",
   "metadata": {},
   "outputs": [
    {
     "data": {
      "text/html": [
       "<table class=\"dataframe\">\n",
       "<caption>A matrix: 3 × 3 of type dbl</caption>\n",
       "<tbody>\n",
       "\t<tr><td>   7</td><td>   96</td><td>   0</td></tr>\n",
       "\t<tr><td>  60</td><td>  932</td><td>  22</td></tr>\n",
       "\t<tr><td>1605</td><td>13548</td><td>2785</td></tr>\n",
       "</tbody>\n",
       "</table>\n"
      ],
      "text/latex": [
       "A matrix: 3 × 3 of type dbl\n",
       "\\begin{tabular}{lll}\n",
       "\t    7 &    96 &    0\\\\\n",
       "\t   60 &   932 &   22\\\\\n",
       "\t 1605 & 13548 & 2785\\\\\n",
       "\\end{tabular}\n"
      ],
      "text/markdown": [
       "\n",
       "A matrix: 3 × 3 of type dbl\n",
       "\n",
       "|    7 |    96 |    0 |\n",
       "|   60 |   932 |   22 |\n",
       "| 1605 | 13548 | 2785 |\n",
       "\n"
      ],
      "text/plain": [
       "     [,1] [,2]  [,3]\n",
       "[1,]    7    96    0\n",
       "[2,]   60   932   22\n",
       "[3,] 1605 13548 2785"
      ]
     },
     "metadata": {},
     "output_type": "display_data"
    }
   ],
   "source": [
    "df_reshape"
   ]
  },
  {
   "cell_type": "code",
   "execution_count": 103,
   "id": "5695bd00",
   "metadata": {},
   "outputs": [],
   "source": [
    "final_df <- setNames(data.frame(df_reshape), c('HISPANIC >=50%', '<50%', 'Unknown'))"
   ]
  },
  {
   "cell_type": "code",
   "execution_count": 104,
   "id": "b3a64537",
   "metadata": {},
   "outputs": [],
   "source": [
    "final_df$`Grand Total` <- rowSums(data.frame(df_reshape))"
   ]
  },
  {
   "cell_type": "code",
   "execution_count": 105,
   "id": "b70ce65c",
   "metadata": {},
   "outputs": [],
   "source": [
    "final_df <- cbind('Grant Size' = c('Grant of>$100,000', 'Grant of<=$100,000', 'No grant'), final_df)"
   ]
  },
  {
   "cell_type": "code",
   "execution_count": 106,
   "id": "cb0aab9c",
   "metadata": {},
   "outputs": [
    {
     "data": {
      "text/html": [
       "<table class=\"dataframe\">\n",
       "<caption>A tabyl: 4 × 5</caption>\n",
       "<thead>\n",
       "\t<tr><th></th><th scope=col>Grant Size</th><th scope=col>HISPANIC &gt;=50%</th><th scope=col>&lt;50%</th><th scope=col>Unknown</th><th scope=col>Grand Total</th></tr>\n",
       "\t<tr><th></th><th scope=col>&lt;chr&gt;</th><th scope=col>&lt;dbl&gt;</th><th scope=col>&lt;dbl&gt;</th><th scope=col>&lt;dbl&gt;</th><th scope=col>&lt;dbl&gt;</th></tr>\n",
       "</thead>\n",
       "<tbody>\n",
       "\t<tr><th scope=row>1</th><td>Grant of&gt;$100,000 </td><td><span style=white-space:pre-wrap>   7</span></td><td><span style=white-space:pre-wrap>   96</span></td><td><span style=white-space:pre-wrap>   0</span></td><td><span style=white-space:pre-wrap>  103</span></td></tr>\n",
       "\t<tr><th scope=row>2</th><td>Grant of&lt;=$100,000</td><td><span style=white-space:pre-wrap>  60</span></td><td><span style=white-space:pre-wrap>  932</span></td><td><span style=white-space:pre-wrap>  22</span></td><td> 1014</td></tr>\n",
       "\t<tr><th scope=row>3</th><td>No grant          </td><td>1605</td><td>13548</td><td>2785</td><td>17938</td></tr>\n",
       "\t<tr><th scope=row>4</th><td>Total             </td><td>1672</td><td>14576</td><td>2807</td><td>19055</td></tr>\n",
       "</tbody>\n",
       "</table>\n"
      ],
      "text/latex": [
       "A tabyl: 4 × 5\n",
       "\\begin{tabular}{r|lllll}\n",
       "  & Grant Size & HISPANIC >=50\\% & <50\\% & Unknown & Grand Total\\\\\n",
       "  & <chr> & <dbl> & <dbl> & <dbl> & <dbl>\\\\\n",
       "\\hline\n",
       "\t1 & Grant of>\\$100,000  &    7 &    96 &    0 &   103\\\\\n",
       "\t2 & Grant of<=\\$100,000 &   60 &   932 &   22 &  1014\\\\\n",
       "\t3 & No grant           & 1605 & 13548 & 2785 & 17938\\\\\n",
       "\t4 & Total              & 1672 & 14576 & 2807 & 19055\\\\\n",
       "\\end{tabular}\n"
      ],
      "text/markdown": [
       "\n",
       "A tabyl: 4 × 5\n",
       "\n",
       "| <!--/--> | Grant Size &lt;chr&gt; | HISPANIC &gt;=50% &lt;dbl&gt; | &lt;50% &lt;dbl&gt; | Unknown &lt;dbl&gt; | Grand Total &lt;dbl&gt; |\n",
       "|---|---|---|---|---|---|\n",
       "| 1 | Grant of&gt;$100,000  |    7 |    96 |    0 |   103 |\n",
       "| 2 | Grant of&lt;=$100,000 |   60 |   932 |   22 |  1014 |\n",
       "| 3 | No grant           | 1605 | 13548 | 2785 | 17938 |\n",
       "| 4 | Total              | 1672 | 14576 | 2807 | 19055 |\n",
       "\n"
      ],
      "text/plain": [
       "  Grant Size         HISPANIC >=50% <50%  Unknown Grand Total\n",
       "1 Grant of>$100,000     7              96    0      103      \n",
       "2 Grant of<=$100,000   60             932   22     1014      \n",
       "3 No grant           1605           13548 2785    17938      \n",
       "4 Total              1672           14576 2807    19055      "
      ]
     },
     "metadata": {},
     "output_type": "display_data"
    }
   ],
   "source": [
    "final_df %>% adorn_totals('row')"
   ]
  },
  {
   "cell_type": "markdown",
   "id": "14ce6abf",
   "metadata": {},
   "source": [
    "# Summary"
   ]
  },
  {
   "cell_type": "markdown",
   "id": "20a099a9",
   "metadata": {},
   "source": [
    "It's clear that very few distacts win \"large grants\" of more than $100,000. Of these districts, only seven (7) have a student population consisting of at least 50\\% Hispanic students. Even the smaller grants are only won by school districts consisting of at least half Hispanic students 6\\% of the time. It's also clear that few grants are available to distribute, with only 6\\% of schools even winning a grant at all."
   ]
  }
 ],
 "metadata": {
  "kernelspec": {
   "display_name": "R",
   "language": "R",
   "name": "ir"
  },
  "language_info": {
   "codemirror_mode": "r",
   "file_extension": ".r",
   "mimetype": "text/x-r-source",
   "name": "R",
   "pygments_lexer": "r",
   "version": "4.1.1"
  }
 },
 "nbformat": 4,
 "nbformat_minor": 5
}
