{
 "cells": [
  {
   "cell_type": "code",
   "execution_count": 1,
   "id": "52800097",
   "metadata": {},
   "outputs": [
    {
     "data": {
      "application/javascript": [
       "\n",
       "            setTimeout(function() {\n",
       "                var nbb_cell_id = 1;\n",
       "                var nbb_unformatted_code = \"%load_ext nb_black\";\n",
       "                var nbb_formatted_code = \"%load_ext nb_black\";\n",
       "                var nbb_cells = Jupyter.notebook.get_cells();\n",
       "                for (var i = 0; i < nbb_cells.length; ++i) {\n",
       "                    if (nbb_cells[i].input_prompt_number == nbb_cell_id) {\n",
       "                        if (nbb_cells[i].get_text() == nbb_unformatted_code) {\n",
       "                             nbb_cells[i].set_text(nbb_formatted_code);\n",
       "                        }\n",
       "                        break;\n",
       "                    }\n",
       "                }\n",
       "            }, 500);\n",
       "            "
      ],
      "text/plain": [
       "<IPython.core.display.Javascript object>"
      ]
     },
     "metadata": {},
     "output_type": "display_data"
    }
   ],
   "source": [
    "%load_ext nb_black"
   ]
  },
  {
   "cell_type": "code",
   "execution_count": 2,
   "id": "25b58d01",
   "metadata": {},
   "outputs": [
    {
     "data": {
      "application/javascript": [
       "\n",
       "            setTimeout(function() {\n",
       "                var nbb_cell_id = 2;\n",
       "                var nbb_unformatted_code = \"import pandas as pd\\nimport numpy as np\\nfrom functools import reduce\\nfrom statsmodels.tsa.stattools import adfuller\\nfrom sklearn.model_selection import train_test_split\\n\\nfrom keras.layers import (\\n    Conv1D,\\n    Dense,\\n    Dropout,\\n    Input,\\n    Concatenate,\\n    GlobalMaxPooling1D,\\n    MaxPooling1D,\\n    Flatten,\\n)\\nfrom keras.models import Model, Sequential\";\n",
       "                var nbb_formatted_code = \"import pandas as pd\\nimport numpy as np\\nfrom functools import reduce\\nfrom statsmodels.tsa.stattools import adfuller\\nfrom sklearn.model_selection import train_test_split\\n\\nfrom keras.layers import (\\n    Conv1D,\\n    Dense,\\n    Dropout,\\n    Input,\\n    Concatenate,\\n    GlobalMaxPooling1D,\\n    MaxPooling1D,\\n    Flatten,\\n)\\nfrom keras.models import Model, Sequential\";\n",
       "                var nbb_cells = Jupyter.notebook.get_cells();\n",
       "                for (var i = 0; i < nbb_cells.length; ++i) {\n",
       "                    if (nbb_cells[i].input_prompt_number == nbb_cell_id) {\n",
       "                        if (nbb_cells[i].get_text() == nbb_unformatted_code) {\n",
       "                             nbb_cells[i].set_text(nbb_formatted_code);\n",
       "                        }\n",
       "                        break;\n",
       "                    }\n",
       "                }\n",
       "            }, 500);\n",
       "            "
      ],
      "text/plain": [
       "<IPython.core.display.Javascript object>"
      ]
     },
     "metadata": {},
     "output_type": "display_data"
    }
   ],
   "source": [
    "import pandas as pd\n",
    "import numpy as np\n",
    "from functools import reduce\n",
    "from statsmodels.tsa.stattools import adfuller\n",
    "from sklearn.model_selection import train_test_split\n",
    "\n",
    "from keras.layers import (\n",
    "    Conv1D,\n",
    "    Dense,\n",
    "    Dropout,\n",
    "    Input,\n",
    "    Concatenate,\n",
    "    GlobalMaxPooling1D,\n",
    "    MaxPooling1D,\n",
    "    Flatten,\n",
    ")\n",
    "from keras.models import Model, Sequential"
   ]
  },
  {
   "cell_type": "markdown",
   "id": "ae0c71d7",
   "metadata": {},
   "source": [
    "## within def function"
   ]
  },
  {
   "cell_type": "code",
   "execution_count": 3,
   "id": "a1b58533",
   "metadata": {},
   "outputs": [
    {
     "data": {
      "application/javascript": [
       "\n",
       "            setTimeout(function() {\n",
       "                var nbb_cell_id = 3;\n",
       "                var nbb_unformatted_code = \"# Step 2. Read file\\nX_countyname = pd.read_csv(\\\"X_countyname.csv\\\").drop(\\n    [\\n        \\\"Unnamed: 0\\\",\\n    ],\\n    axis=1,\\n)\";\n",
       "                var nbb_formatted_code = \"# Step 2. Read file\\nX_countyname = pd.read_csv(\\\"X_countyname.csv\\\").drop(\\n    [\\n        \\\"Unnamed: 0\\\",\\n    ],\\n    axis=1,\\n)\";\n",
       "                var nbb_cells = Jupyter.notebook.get_cells();\n",
       "                for (var i = 0; i < nbb_cells.length; ++i) {\n",
       "                    if (nbb_cells[i].input_prompt_number == nbb_cell_id) {\n",
       "                        if (nbb_cells[i].get_text() == nbb_unformatted_code) {\n",
       "                             nbb_cells[i].set_text(nbb_formatted_code);\n",
       "                        }\n",
       "                        break;\n",
       "                    }\n",
       "                }\n",
       "            }, 500);\n",
       "            "
      ],
      "text/plain": [
       "<IPython.core.display.Javascript object>"
      ]
     },
     "metadata": {},
     "output_type": "display_data"
    }
   ],
   "source": [
    "# Step 2. Read file\n",
    "X_countyname = pd.read_csv(\"X_countyname.csv\").drop(\n",
    "    [\n",
    "        \"Unnamed: 0\",\n",
    "    ],\n",
    "    axis=1,\n",
    ")"
   ]
  },
  {
   "cell_type": "code",
   "execution_count": 4,
   "id": "4669e976",
   "metadata": {},
   "outputs": [
    {
     "data": {
      "application/javascript": [
       "\n",
       "            setTimeout(function() {\n",
       "                var nbb_cell_id = 4;\n",
       "                var nbb_unformatted_code = \"input = \\\"Lauderdale County, Alabama\\\"\";\n",
       "                var nbb_formatted_code = \"input = \\\"Lauderdale County, Alabama\\\"\";\n",
       "                var nbb_cells = Jupyter.notebook.get_cells();\n",
       "                for (var i = 0; i < nbb_cells.length; ++i) {\n",
       "                    if (nbb_cells[i].input_prompt_number == nbb_cell_id) {\n",
       "                        if (nbb_cells[i].get_text() == nbb_unformatted_code) {\n",
       "                             nbb_cells[i].set_text(nbb_formatted_code);\n",
       "                        }\n",
       "                        break;\n",
       "                    }\n",
       "                }\n",
       "            }, 500);\n",
       "            "
      ],
      "text/plain": [
       "<IPython.core.display.Javascript object>"
      ]
     },
     "metadata": {},
     "output_type": "display_data"
    }
   ],
   "source": [
    "input = \"Lauderdale County, Alabama\""
   ]
  },
  {
   "cell_type": "code",
   "execution_count": 5,
   "id": "e240b59e",
   "metadata": {},
   "outputs": [
    {
     "data": {
      "application/javascript": [
       "\n",
       "            setTimeout(function() {\n",
       "                var nbb_cell_id = 5;\n",
       "                var nbb_unformatted_code = \"X_minus_selected = X_countyname[X_countyname[\\\"countyname\\\"] != input]\";\n",
       "                var nbb_formatted_code = \"X_minus_selected = X_countyname[X_countyname[\\\"countyname\\\"] != input]\";\n",
       "                var nbb_cells = Jupyter.notebook.get_cells();\n",
       "                for (var i = 0; i < nbb_cells.length; ++i) {\n",
       "                    if (nbb_cells[i].input_prompt_number == nbb_cell_id) {\n",
       "                        if (nbb_cells[i].get_text() == nbb_unformatted_code) {\n",
       "                             nbb_cells[i].set_text(nbb_formatted_code);\n",
       "                        }\n",
       "                        break;\n",
       "                    }\n",
       "                }\n",
       "            }, 500);\n",
       "            "
      ],
      "text/plain": [
       "<IPython.core.display.Javascript object>"
      ]
     },
     "metadata": {},
     "output_type": "display_data"
    }
   ],
   "source": [
    "X_minus_selected = X_countyname[X_countyname[\"countyname\"] != input]"
   ]
  },
  {
   "cell_type": "code",
   "execution_count": 6,
   "id": "c98bcf00",
   "metadata": {},
   "outputs": [
    {
     "data": {
      "application/javascript": [
       "\n",
       "            setTimeout(function() {\n",
       "                var nbb_cell_id = 6;\n",
       "                var nbb_unformatted_code = \"# ensure all timeseries are all of the same length(86 days)\\ncheck_len_timeseries = []\\ncounties = []\\n\\nfor county in X_minus_selected[\\\"countyname\\\"].unique():\\n    subset = X_minus_selected[X_minus_selected[\\\"countyname\\\"] == county]\\n    if (\\n        subset[[\\\"new_case_rate\\\", \\\"gps_away_from_home\\\", \\\"spend_all\\\"]].to_numpy().shape[0]\\n        == 86\\n    ):\\n        check_len_timeseries.append(\\n            subset[[\\\"new_case_rate\\\", \\\"gps_away_from_home\\\", \\\"spend_all\\\"]].to_numpy()\\n        )\\n        counties.append(county)\";\n",
       "                var nbb_formatted_code = \"# ensure all timeseries are all of the same length(86 days)\\ncheck_len_timeseries = []\\ncounties = []\\n\\nfor county in X_minus_selected[\\\"countyname\\\"].unique():\\n    subset = X_minus_selected[X_minus_selected[\\\"countyname\\\"] == county]\\n    if (\\n        subset[[\\\"new_case_rate\\\", \\\"gps_away_from_home\\\", \\\"spend_all\\\"]].to_numpy().shape[0]\\n        == 86\\n    ):\\n        check_len_timeseries.append(\\n            subset[[\\\"new_case_rate\\\", \\\"gps_away_from_home\\\", \\\"spend_all\\\"]].to_numpy()\\n        )\\n        counties.append(county)\";\n",
       "                var nbb_cells = Jupyter.notebook.get_cells();\n",
       "                for (var i = 0; i < nbb_cells.length; ++i) {\n",
       "                    if (nbb_cells[i].input_prompt_number == nbb_cell_id) {\n",
       "                        if (nbb_cells[i].get_text() == nbb_unformatted_code) {\n",
       "                             nbb_cells[i].set_text(nbb_formatted_code);\n",
       "                        }\n",
       "                        break;\n",
       "                    }\n",
       "                }\n",
       "            }, 500);\n",
       "            "
      ],
      "text/plain": [
       "<IPython.core.display.Javascript object>"
      ]
     },
     "metadata": {},
     "output_type": "display_data"
    }
   ],
   "source": [
    "# ensure all timeseries are all of the same length(86 days)\n",
    "check_len_timeseries = []\n",
    "counties = []\n",
    "\n",
    "for county in X_minus_selected[\"countyname\"].unique():\n",
    "    subset = X_minus_selected[X_minus_selected[\"countyname\"] == county]\n",
    "    if (\n",
    "        subset[[\"new_case_rate\", \"gps_away_from_home\", \"spend_all\"]].to_numpy().shape[0]\n",
    "        == 86\n",
    "    ):\n",
    "        check_len_timeseries.append(\n",
    "            subset[[\"new_case_rate\", \"gps_away_from_home\", \"spend_all\"]].to_numpy()\n",
    "        )\n",
    "        counties.append(county)"
   ]
  },
  {
   "cell_type": "code",
   "execution_count": 8,
   "id": "ca9ccc57",
   "metadata": {},
   "outputs": [
    {
     "data": {
      "text/plain": [
       "1308"
      ]
     },
     "execution_count": 8,
     "metadata": {},
     "output_type": "execute_result"
    },
    {
     "data": {
      "application/javascript": [
       "\n",
       "            setTimeout(function() {\n",
       "                var nbb_cell_id = 8;\n",
       "                var nbb_unformatted_code = \"len(counties)\";\n",
       "                var nbb_formatted_code = \"len(counties)\";\n",
       "                var nbb_cells = Jupyter.notebook.get_cells();\n",
       "                for (var i = 0; i < nbb_cells.length; ++i) {\n",
       "                    if (nbb_cells[i].input_prompt_number == nbb_cell_id) {\n",
       "                        if (nbb_cells[i].get_text() == nbb_unformatted_code) {\n",
       "                             nbb_cells[i].set_text(nbb_formatted_code);\n",
       "                        }\n",
       "                        break;\n",
       "                    }\n",
       "                }\n",
       "            }, 500);\n",
       "            "
      ],
      "text/plain": [
       "<IPython.core.display.Javascript object>"
      ]
     },
     "metadata": {},
     "output_type": "display_data"
    }
   ],
   "source": [
    "len(counties)"
   ]
  },
  {
   "cell_type": "code",
   "execution_count": 9,
   "id": "0daeafb1",
   "metadata": {},
   "outputs": [
    {
     "data": {
      "application/javascript": [
       "\n",
       "            setTimeout(function() {\n",
       "                var nbb_cell_id = 9;\n",
       "                var nbb_unformatted_code = \"# create X\\nX = (\\n    np.concatenate(check_len_timeseries, axis=0).reshape(1308, 86, 3).astype(np.float32)\\n)  # sample, timesteps, features\";\n",
       "                var nbb_formatted_code = \"# create X\\nX = (\\n    np.concatenate(check_len_timeseries, axis=0).reshape(1308, 86, 3).astype(np.float32)\\n)  # sample, timesteps, features\";\n",
       "                var nbb_cells = Jupyter.notebook.get_cells();\n",
       "                for (var i = 0; i < nbb_cells.length; ++i) {\n",
       "                    if (nbb_cells[i].input_prompt_number == nbb_cell_id) {\n",
       "                        if (nbb_cells[i].get_text() == nbb_unformatted_code) {\n",
       "                             nbb_cells[i].set_text(nbb_formatted_code);\n",
       "                        }\n",
       "                        break;\n",
       "                    }\n",
       "                }\n",
       "            }, 500);\n",
       "            "
      ],
      "text/plain": [
       "<IPython.core.display.Javascript object>"
      ]
     },
     "metadata": {},
     "output_type": "display_data"
    }
   ],
   "source": [
    "# create X\n",
    "X = (\n",
    "    np.concatenate(check_len_timeseries, axis=0).reshape(1308, 86, 3).astype(np.float32)\n",
    ")  # sample, timesteps, features"
   ]
  },
  {
   "cell_type": "code",
   "execution_count": 10,
   "id": "270e885e",
   "metadata": {},
   "outputs": [
    {
     "data": {
      "application/javascript": [
       "\n",
       "            setTimeout(function() {\n",
       "                var nbb_cell_id = 10;\n",
       "                var nbb_unformatted_code = \"# Step 2. Read file\\ny_countyname = pd.read_csv(\\\"y_countyname.csv\\\").drop(\\n    [\\n        \\\"Unnamed: 0\\\",\\n    ],\\n    axis=1,\\n)\";\n",
       "                var nbb_formatted_code = \"# Step 2. Read file\\ny_countyname = pd.read_csv(\\\"y_countyname.csv\\\").drop(\\n    [\\n        \\\"Unnamed: 0\\\",\\n    ],\\n    axis=1,\\n)\";\n",
       "                var nbb_cells = Jupyter.notebook.get_cells();\n",
       "                for (var i = 0; i < nbb_cells.length; ++i) {\n",
       "                    if (nbb_cells[i].input_prompt_number == nbb_cell_id) {\n",
       "                        if (nbb_cells[i].get_text() == nbb_unformatted_code) {\n",
       "                             nbb_cells[i].set_text(nbb_formatted_code);\n",
       "                        }\n",
       "                        break;\n",
       "                    }\n",
       "                }\n",
       "            }, 500);\n",
       "            "
      ],
      "text/plain": [
       "<IPython.core.display.Javascript object>"
      ]
     },
     "metadata": {},
     "output_type": "display_data"
    }
   ],
   "source": [
    "# Step 2. Read file\n",
    "y_countyname = pd.read_csv(\"y_countyname.csv\").drop(\n",
    "    [\n",
    "        \"Unnamed: 0\",\n",
    "    ],\n",
    "    axis=1,\n",
    ")"
   ]
  },
  {
   "cell_type": "code",
   "execution_count": 11,
   "id": "c8b9f2ee",
   "metadata": {},
   "outputs": [
    {
     "data": {
      "application/javascript": [
       "\n",
       "            setTimeout(function() {\n",
       "                var nbb_cell_id = 11;\n",
       "                var nbb_unformatted_code = \"y_minus_selected = y_countyname[y_countyname[\\\"countyname\\\"] != input]\";\n",
       "                var nbb_formatted_code = \"y_minus_selected = y_countyname[y_countyname[\\\"countyname\\\"] != input]\";\n",
       "                var nbb_cells = Jupyter.notebook.get_cells();\n",
       "                for (var i = 0; i < nbb_cells.length; ++i) {\n",
       "                    if (nbb_cells[i].input_prompt_number == nbb_cell_id) {\n",
       "                        if (nbb_cells[i].get_text() == nbb_unformatted_code) {\n",
       "                             nbb_cells[i].set_text(nbb_formatted_code);\n",
       "                        }\n",
       "                        break;\n",
       "                    }\n",
       "                }\n",
       "            }, 500);\n",
       "            "
      ],
      "text/plain": [
       "<IPython.core.display.Javascript object>"
      ]
     },
     "metadata": {},
     "output_type": "display_data"
    }
   ],
   "source": [
    "y_minus_selected = y_countyname[y_countyname[\"countyname\"] != input]"
   ]
  },
  {
   "cell_type": "code",
   "execution_count": 12,
   "id": "2240d6dc",
   "metadata": {},
   "outputs": [
    {
     "data": {
      "application/javascript": [
       "\n",
       "            setTimeout(function() {\n",
       "                var nbb_cell_id = 12;\n",
       "                var nbb_unformatted_code = \"# create y\\ntotal_perc_change = []\\n\\nfor county in counties:\\n    subset = y_minus_selected[y_minus_selected[\\\"countyname\\\"] == county]\\n    total_perc_change.append(\\n        reduce(lambda x, y: x + y + x * y, subset[\\\"emp_incbelowmed\\\"], 1)\\n    )\\n\\ny = np.array(total_perc_change).astype(np.float32)\";\n",
       "                var nbb_formatted_code = \"# create y\\ntotal_perc_change = []\\n\\nfor county in counties:\\n    subset = y_minus_selected[y_minus_selected[\\\"countyname\\\"] == county]\\n    total_perc_change.append(\\n        reduce(lambda x, y: x + y + x * y, subset[\\\"emp_incbelowmed\\\"], 1)\\n    )\\n\\ny = np.array(total_perc_change).astype(np.float32)\";\n",
       "                var nbb_cells = Jupyter.notebook.get_cells();\n",
       "                for (var i = 0; i < nbb_cells.length; ++i) {\n",
       "                    if (nbb_cells[i].input_prompt_number == nbb_cell_id) {\n",
       "                        if (nbb_cells[i].get_text() == nbb_unformatted_code) {\n",
       "                             nbb_cells[i].set_text(nbb_formatted_code);\n",
       "                        }\n",
       "                        break;\n",
       "                    }\n",
       "                }\n",
       "            }, 500);\n",
       "            "
      ],
      "text/plain": [
       "<IPython.core.display.Javascript object>"
      ]
     },
     "metadata": {},
     "output_type": "display_data"
    }
   ],
   "source": [
    "# create y\n",
    "total_perc_change = []\n",
    "\n",
    "for county in counties:\n",
    "    subset = y_minus_selected[y_minus_selected[\"countyname\"] == county]\n",
    "    total_perc_change.append(\n",
    "        reduce(lambda x, y: x + y + x * y, subset[\"emp_incbelowmed\"], 1)\n",
    "    )\n",
    "\n",
    "y = np.array(total_perc_change).astype(np.float32)"
   ]
  },
  {
   "cell_type": "code",
   "execution_count": 13,
   "id": "601f719d",
   "metadata": {},
   "outputs": [
    {
     "data": {
      "application/javascript": [
       "\n",
       "            setTimeout(function() {\n",
       "                var nbb_cell_id = 13;\n",
       "                var nbb_unformatted_code = \"# split to train, test, split\\nX_train, X_test, y_train, y_test = train_test_split(X, y, test_size=0.2, random_state=0)\";\n",
       "                var nbb_formatted_code = \"# split to train, test, split\\nX_train, X_test, y_train, y_test = train_test_split(X, y, test_size=0.2, random_state=0)\";\n",
       "                var nbb_cells = Jupyter.notebook.get_cells();\n",
       "                for (var i = 0; i < nbb_cells.length; ++i) {\n",
       "                    if (nbb_cells[i].input_prompt_number == nbb_cell_id) {\n",
       "                        if (nbb_cells[i].get_text() == nbb_unformatted_code) {\n",
       "                             nbb_cells[i].set_text(nbb_formatted_code);\n",
       "                        }\n",
       "                        break;\n",
       "                    }\n",
       "                }\n",
       "            }, 500);\n",
       "            "
      ],
      "text/plain": [
       "<IPython.core.display.Javascript object>"
      ]
     },
     "metadata": {},
     "output_type": "display_data"
    }
   ],
   "source": [
    "# split to train, test, split\n",
    "X_train, X_test, y_train, y_test = train_test_split(X, y, test_size=0.2, random_state=0)"
   ]
  },
  {
   "cell_type": "markdown",
   "id": "b691c1e3",
   "metadata": {},
   "source": [
    "# add selected county back to test data"
   ]
  },
  {
   "cell_type": "code",
   "execution_count": 14,
   "id": "0f51d6c4",
   "metadata": {},
   "outputs": [
    {
     "data": {
      "application/javascript": [
       "\n",
       "            setTimeout(function() {\n",
       "                var nbb_cell_id = 14;\n",
       "                var nbb_unformatted_code = \"X_selected = X_countyname[X_countyname[\\\"countyname\\\"] == input][\\n    [\\\"new_case_rate\\\", \\\"gps_away_from_home\\\", \\\"spend_all\\\"]\\n].to_numpy()\";\n",
       "                var nbb_formatted_code = \"X_selected = X_countyname[X_countyname[\\\"countyname\\\"] == input][\\n    [\\\"new_case_rate\\\", \\\"gps_away_from_home\\\", \\\"spend_all\\\"]\\n].to_numpy()\";\n",
       "                var nbb_cells = Jupyter.notebook.get_cells();\n",
       "                for (var i = 0; i < nbb_cells.length; ++i) {\n",
       "                    if (nbb_cells[i].input_prompt_number == nbb_cell_id) {\n",
       "                        if (nbb_cells[i].get_text() == nbb_unformatted_code) {\n",
       "                             nbb_cells[i].set_text(nbb_formatted_code);\n",
       "                        }\n",
       "                        break;\n",
       "                    }\n",
       "                }\n",
       "            }, 500);\n",
       "            "
      ],
      "text/plain": [
       "<IPython.core.display.Javascript object>"
      ]
     },
     "metadata": {},
     "output_type": "display_data"
    }
   ],
   "source": [
    "X_selected = X_countyname[X_countyname[\"countyname\"] == input][\n",
    "    [\"new_case_rate\", \"gps_away_from_home\", \"spend_all\"]\n",
    "].to_numpy()"
   ]
  },
  {
   "cell_type": "code",
   "execution_count": 15,
   "id": "2632b7f5",
   "metadata": {},
   "outputs": [
    {
     "data": {
      "text/plain": [
       "(262, 86, 3)"
      ]
     },
     "execution_count": 15,
     "metadata": {},
     "output_type": "execute_result"
    },
    {
     "data": {
      "application/javascript": [
       "\n",
       "            setTimeout(function() {\n",
       "                var nbb_cell_id = 15;\n",
       "                var nbb_unformatted_code = \"X_test.shape\";\n",
       "                var nbb_formatted_code = \"X_test.shape\";\n",
       "                var nbb_cells = Jupyter.notebook.get_cells();\n",
       "                for (var i = 0; i < nbb_cells.length; ++i) {\n",
       "                    if (nbb_cells[i].input_prompt_number == nbb_cell_id) {\n",
       "                        if (nbb_cells[i].get_text() == nbb_unformatted_code) {\n",
       "                             nbb_cells[i].set_text(nbb_formatted_code);\n",
       "                        }\n",
       "                        break;\n",
       "                    }\n",
       "                }\n",
       "            }, 500);\n",
       "            "
      ],
      "text/plain": [
       "<IPython.core.display.Javascript object>"
      ]
     },
     "metadata": {},
     "output_type": "display_data"
    }
   ],
   "source": [
    "X_test.shape"
   ]
  },
  {
   "cell_type": "code",
   "execution_count": 19,
   "id": "01c18b99",
   "metadata": {
    "scrolled": true
   },
   "outputs": [
    {
     "data": {
      "text/plain": [
       "(86, 3)"
      ]
     },
     "execution_count": 19,
     "metadata": {},
     "output_type": "execute_result"
    },
    {
     "data": {
      "application/javascript": [
       "\n",
       "            setTimeout(function() {\n",
       "                var nbb_cell_id = 19;\n",
       "                var nbb_unformatted_code = \"X_selected.shape\";\n",
       "                var nbb_formatted_code = \"X_selected.shape\";\n",
       "                var nbb_cells = Jupyter.notebook.get_cells();\n",
       "                for (var i = 0; i < nbb_cells.length; ++i) {\n",
       "                    if (nbb_cells[i].input_prompt_number == nbb_cell_id) {\n",
       "                        if (nbb_cells[i].get_text() == nbb_unformatted_code) {\n",
       "                             nbb_cells[i].set_text(nbb_formatted_code);\n",
       "                        }\n",
       "                        break;\n",
       "                    }\n",
       "                }\n",
       "            }, 500);\n",
       "            "
      ],
      "text/plain": [
       "<IPython.core.display.Javascript object>"
      ]
     },
     "metadata": {},
     "output_type": "display_data"
    }
   ],
   "source": [
    "X_selected.shape"
   ]
  },
  {
   "cell_type": "code",
   "execution_count": 20,
   "id": "3176d4c7",
   "metadata": {
    "scrolled": true
   },
   "outputs": [
    {
     "data": {
      "application/javascript": [
       "\n",
       "            setTimeout(function() {\n",
       "                var nbb_cell_id = 20;\n",
       "                var nbb_unformatted_code = \"# add selected back to test\\nX_test = np.vstack((X_test, X_selected.reshape(1, 86, 3)))\";\n",
       "                var nbb_formatted_code = \"# add selected back to test\\nX_test = np.vstack((X_test, X_selected.reshape(1, 86, 3)))\";\n",
       "                var nbb_cells = Jupyter.notebook.get_cells();\n",
       "                for (var i = 0; i < nbb_cells.length; ++i) {\n",
       "                    if (nbb_cells[i].input_prompt_number == nbb_cell_id) {\n",
       "                        if (nbb_cells[i].get_text() == nbb_unformatted_code) {\n",
       "                             nbb_cells[i].set_text(nbb_formatted_code);\n",
       "                        }\n",
       "                        break;\n",
       "                    }\n",
       "                }\n",
       "            }, 500);\n",
       "            "
      ],
      "text/plain": [
       "<IPython.core.display.Javascript object>"
      ]
     },
     "metadata": {},
     "output_type": "display_data"
    }
   ],
   "source": [
    "# add selected back to test\n",
    "X_test = np.vstack((X_test, X_selected.reshape(1, 86, 3)))"
   ]
  },
  {
   "cell_type": "code",
   "execution_count": null,
   "id": "53fb8f2f",
   "metadata": {},
   "outputs": [],
   "source": []
  },
  {
   "cell_type": "code",
   "execution_count": 23,
   "id": "df7426a4",
   "metadata": {},
   "outputs": [
    {
     "data": {
      "application/javascript": [
       "\n",
       "            setTimeout(function() {\n",
       "                var nbb_cell_id = 23;\n",
       "                var nbb_unformatted_code = \"y_subset = y_countyname[y_countyname[\\\"countyname\\\"] == input]\\ny_selected = reduce(lambda x, y: x + y + x * y, y_subset[\\\"emp_incbelowmed\\\"], 1)\";\n",
       "                var nbb_formatted_code = \"y_subset = y_countyname[y_countyname[\\\"countyname\\\"] == input]\\ny_selected = reduce(lambda x, y: x + y + x * y, y_subset[\\\"emp_incbelowmed\\\"], 1)\";\n",
       "                var nbb_cells = Jupyter.notebook.get_cells();\n",
       "                for (var i = 0; i < nbb_cells.length; ++i) {\n",
       "                    if (nbb_cells[i].input_prompt_number == nbb_cell_id) {\n",
       "                        if (nbb_cells[i].get_text() == nbb_unformatted_code) {\n",
       "                             nbb_cells[i].set_text(nbb_formatted_code);\n",
       "                        }\n",
       "                        break;\n",
       "                    }\n",
       "                }\n",
       "            }, 500);\n",
       "            "
      ],
      "text/plain": [
       "<IPython.core.display.Javascript object>"
      ]
     },
     "metadata": {},
     "output_type": "display_data"
    }
   ],
   "source": [
    "y_subset = y_countyname[y_countyname[\"countyname\"] == input]\n",
    "y_selected = reduce(lambda x, y: x + y + x * y, y_subset[\"emp_incbelowmed\"], 1)"
   ]
  },
  {
   "cell_type": "code",
   "execution_count": 28,
   "id": "0a33dbc8",
   "metadata": {},
   "outputs": [
    {
     "data": {
      "application/javascript": [
       "\n",
       "            setTimeout(function() {\n",
       "                var nbb_cell_id = 28;\n",
       "                var nbb_unformatted_code = \"y_selected = np.array(y_selected).astype(np.float32)\";\n",
       "                var nbb_formatted_code = \"y_selected = np.array(y_selected).astype(np.float32)\";\n",
       "                var nbb_cells = Jupyter.notebook.get_cells();\n",
       "                for (var i = 0; i < nbb_cells.length; ++i) {\n",
       "                    if (nbb_cells[i].input_prompt_number == nbb_cell_id) {\n",
       "                        if (nbb_cells[i].get_text() == nbb_unformatted_code) {\n",
       "                             nbb_cells[i].set_text(nbb_formatted_code);\n",
       "                        }\n",
       "                        break;\n",
       "                    }\n",
       "                }\n",
       "            }, 500);\n",
       "            "
      ],
      "text/plain": [
       "<IPython.core.display.Javascript object>"
      ]
     },
     "metadata": {},
     "output_type": "display_data"
    }
   ],
   "source": [
    "y_selected = np.array(y_selected).astype(np.float32)"
   ]
  },
  {
   "cell_type": "code",
   "execution_count": 33,
   "id": "ffbaea3e",
   "metadata": {},
   "outputs": [
    {
     "data": {
      "application/javascript": [
       "\n",
       "            setTimeout(function() {\n",
       "                var nbb_cell_id = 33;\n",
       "                var nbb_unformatted_code = \"y_test = np.append(y_test, y_selected)\";\n",
       "                var nbb_formatted_code = \"y_test = np.append(y_test, y_selected)\";\n",
       "                var nbb_cells = Jupyter.notebook.get_cells();\n",
       "                for (var i = 0; i < nbb_cells.length; ++i) {\n",
       "                    if (nbb_cells[i].input_prompt_number == nbb_cell_id) {\n",
       "                        if (nbb_cells[i].get_text() == nbb_unformatted_code) {\n",
       "                             nbb_cells[i].set_text(nbb_formatted_code);\n",
       "                        }\n",
       "                        break;\n",
       "                    }\n",
       "                }\n",
       "            }, 500);\n",
       "            "
      ],
      "text/plain": [
       "<IPython.core.display.Javascript object>"
      ]
     },
     "metadata": {},
     "output_type": "display_data"
    }
   ],
   "source": [
    "y_test = np.append(y_test, y_selected)"
   ]
  },
  {
   "cell_type": "code",
   "execution_count": 34,
   "id": "6df50b12",
   "metadata": {},
   "outputs": [
    {
     "data": {
      "application/javascript": [
       "\n",
       "            setTimeout(function() {\n",
       "                var nbb_cell_id = 34;\n",
       "                var nbb_unformatted_code = \"n_timesteps, n_features, n_outputs = (\\n    X_train.shape[1],\\n    X_train.shape[2],\\n    1,\\n)\";\n",
       "                var nbb_formatted_code = \"n_timesteps, n_features, n_outputs = (\\n    X_train.shape[1],\\n    X_train.shape[2],\\n    1,\\n)\";\n",
       "                var nbb_cells = Jupyter.notebook.get_cells();\n",
       "                for (var i = 0; i < nbb_cells.length; ++i) {\n",
       "                    if (nbb_cells[i].input_prompt_number == nbb_cell_id) {\n",
       "                        if (nbb_cells[i].get_text() == nbb_unformatted_code) {\n",
       "                             nbb_cells[i].set_text(nbb_formatted_code);\n",
       "                        }\n",
       "                        break;\n",
       "                    }\n",
       "                }\n",
       "            }, 500);\n",
       "            "
      ],
      "text/plain": [
       "<IPython.core.display.Javascript object>"
      ]
     },
     "metadata": {},
     "output_type": "display_data"
    }
   ],
   "source": [
    "n_timesteps, n_features, n_outputs = (\n",
    "    X_train.shape[1],\n",
    "    X_train.shape[2],\n",
    "    1,\n",
    ")"
   ]
  },
  {
   "cell_type": "code",
   "execution_count": 35,
   "id": "3fddd65b",
   "metadata": {},
   "outputs": [
    {
     "data": {
      "application/javascript": [
       "\n",
       "            setTimeout(function() {\n",
       "                var nbb_cell_id = 35;\n",
       "                var nbb_unformatted_code = \"def create_model(verbose=0, epochs=10, batch_size=32):\\n    model = Sequential()\\n    # solves what is called the vanishing gradient problem whereby\\n    # the neural network would not be able to feed back important gradient information\\n    # from the output layer back to the input layer\\n    model.add(\\n        Conv1D(\\n            filters=10,\\n            kernel_size=1,\\n            activation=\\\"relu\\\",  # popular with regression neural nets\\n            input_shape=(n_timesteps, n_features),\\n        )\\n    )\\n    model.add(Conv1D(filters=10, kernel_size=1, activation=\\\"relu\\\"))\\n    model.add(Dropout(0.5))\\n    # model.add(MaxPooling1D(pool_size=2))\\n    model.add(Flatten())\\n    model.add(Dense(50, activation=\\\"relu\\\"))  # try activation='elu' ???\\n    # Initializers define the way to set the initial random weights of Keras layers.\\n    model.add(Dense(n_outputs, kernel_initializer=\\\"normal\\\", activation=\\\"linear\\\"))\\n    return model\";\n",
       "                var nbb_formatted_code = \"def create_model(verbose=0, epochs=10, batch_size=32):\\n    model = Sequential()\\n    # solves what is called the vanishing gradient problem whereby\\n    # the neural network would not be able to feed back important gradient information\\n    # from the output layer back to the input layer\\n    model.add(\\n        Conv1D(\\n            filters=10,\\n            kernel_size=1,\\n            activation=\\\"relu\\\",  # popular with regression neural nets\\n            input_shape=(n_timesteps, n_features),\\n        )\\n    )\\n    model.add(Conv1D(filters=10, kernel_size=1, activation=\\\"relu\\\"))\\n    model.add(Dropout(0.5))\\n    # model.add(MaxPooling1D(pool_size=2))\\n    model.add(Flatten())\\n    model.add(Dense(50, activation=\\\"relu\\\"))  # try activation='elu' ???\\n    # Initializers define the way to set the initial random weights of Keras layers.\\n    model.add(Dense(n_outputs, kernel_initializer=\\\"normal\\\", activation=\\\"linear\\\"))\\n    return model\";\n",
       "                var nbb_cells = Jupyter.notebook.get_cells();\n",
       "                for (var i = 0; i < nbb_cells.length; ++i) {\n",
       "                    if (nbb_cells[i].input_prompt_number == nbb_cell_id) {\n",
       "                        if (nbb_cells[i].get_text() == nbb_unformatted_code) {\n",
       "                             nbb_cells[i].set_text(nbb_formatted_code);\n",
       "                        }\n",
       "                        break;\n",
       "                    }\n",
       "                }\n",
       "            }, 500);\n",
       "            "
      ],
      "text/plain": [
       "<IPython.core.display.Javascript object>"
      ]
     },
     "metadata": {},
     "output_type": "display_data"
    }
   ],
   "source": [
    "def create_model(verbose=0, epochs=10, batch_size=32):\n",
    "    model = Sequential()\n",
    "    # solves what is called the vanishing gradient problem whereby\n",
    "    # the neural network would not be able to feed back important gradient information\n",
    "    # from the output layer back to the input layer\n",
    "    model.add(\n",
    "        Conv1D(\n",
    "            filters=10,\n",
    "            kernel_size=1,\n",
    "            activation=\"relu\",  # popular with regression neural nets\n",
    "            input_shape=(n_timesteps, n_features),\n",
    "        )\n",
    "    )\n",
    "    model.add(Conv1D(filters=10, kernel_size=1, activation=\"relu\"))\n",
    "    model.add(Dropout(0.5))\n",
    "    # model.add(MaxPooling1D(pool_size=2))\n",
    "    model.add(Flatten())\n",
    "    model.add(Dense(50, activation=\"relu\"))  # try activation='elu' ???\n",
    "    # Initializers define the way to set the initial random weights of Keras layers.\n",
    "    model.add(Dense(n_outputs, kernel_initializer=\"normal\", activation=\"linear\"))\n",
    "    return model"
   ]
  },
  {
   "cell_type": "code",
   "execution_count": 36,
   "id": "830cb1b3",
   "metadata": {},
   "outputs": [
    {
     "name": "stdout",
     "output_type": "stream",
     "text": [
      "33/33 [==============================] - 15s 4ms/step - loss: 1476127842508785.0000 - mean_absolute_error: 1476127842508785.0000\n"
     ]
    },
    {
     "data": {
      "application/javascript": [
       "\n",
       "            setTimeout(function() {\n",
       "                var nbb_cell_id = 36;\n",
       "                var nbb_unformatted_code = \"# create the model\\nmodel = create_model()\\nmodel.compile(\\n    loss=\\\"mean_absolute_error\\\", optimizer=\\\"adam\\\", metrics=[\\\"mean_absolute_error\\\"]\\n)\\nmodel.fit(X_train, y_train)\\nweights = model.get_weights()\";\n",
       "                var nbb_formatted_code = \"# create the model\\nmodel = create_model()\\nmodel.compile(\\n    loss=\\\"mean_absolute_error\\\", optimizer=\\\"adam\\\", metrics=[\\\"mean_absolute_error\\\"]\\n)\\nmodel.fit(X_train, y_train)\\nweights = model.get_weights()\";\n",
       "                var nbb_cells = Jupyter.notebook.get_cells();\n",
       "                for (var i = 0; i < nbb_cells.length; ++i) {\n",
       "                    if (nbb_cells[i].input_prompt_number == nbb_cell_id) {\n",
       "                        if (nbb_cells[i].get_text() == nbb_unformatted_code) {\n",
       "                             nbb_cells[i].set_text(nbb_formatted_code);\n",
       "                        }\n",
       "                        break;\n",
       "                    }\n",
       "                }\n",
       "            }, 500);\n",
       "            "
      ],
      "text/plain": [
       "<IPython.core.display.Javascript object>"
      ]
     },
     "metadata": {},
     "output_type": "display_data"
    }
   ],
   "source": [
    "# create the model\n",
    "model = create_model()\n",
    "model.compile(\n",
    "    loss=\"mean_absolute_error\", optimizer=\"adam\", metrics=[\"mean_absolute_error\"]\n",
    ")\n",
    "model.fit(X_train, y_train)\n",
    "weights = model.get_weights()"
   ]
  },
  {
   "cell_type": "code",
   "execution_count": 37,
   "id": "89503158",
   "metadata": {},
   "outputs": [
    {
     "data": {
      "application/javascript": [
       "\n",
       "            setTimeout(function() {\n",
       "                var nbb_cell_id = 37;\n",
       "                var nbb_unformatted_code = \"## create single item model\\nsingle_item_model = create_model(batch_size=1)\\nsingle_item_model.set_weights(weights)\\nsingle_item_model.compile(\\n    loss=\\\"mean_absolute_error\\\", optimizer=\\\"adam\\\", metrics=[\\\"mean_absolute_error\\\"]\\n)\";\n",
       "                var nbb_formatted_code = \"## create single item model\\nsingle_item_model = create_model(batch_size=1)\\nsingle_item_model.set_weights(weights)\\nsingle_item_model.compile(\\n    loss=\\\"mean_absolute_error\\\", optimizer=\\\"adam\\\", metrics=[\\\"mean_absolute_error\\\"]\\n)\";\n",
       "                var nbb_cells = Jupyter.notebook.get_cells();\n",
       "                for (var i = 0; i < nbb_cells.length; ++i) {\n",
       "                    if (nbb_cells[i].input_prompt_number == nbb_cell_id) {\n",
       "                        if (nbb_cells[i].get_text() == nbb_unformatted_code) {\n",
       "                             nbb_cells[i].set_text(nbb_formatted_code);\n",
       "                        }\n",
       "                        break;\n",
       "                    }\n",
       "                }\n",
       "            }, 500);\n",
       "            "
      ],
      "text/plain": [
       "<IPython.core.display.Javascript object>"
      ]
     },
     "metadata": {},
     "output_type": "display_data"
    }
   ],
   "source": [
    "## create single item model\n",
    "single_item_model = create_model(batch_size=1)\n",
    "single_item_model.set_weights(weights)\n",
    "single_item_model.compile(\n",
    "    loss=\"mean_absolute_error\", optimizer=\"adam\", metrics=[\"mean_absolute_error\"]\n",
    ")"
   ]
  },
  {
   "cell_type": "code",
   "execution_count": 40,
   "id": "840fa167",
   "metadata": {},
   "outputs": [
    {
     "data": {
      "text/plain": [
       "array([[-0.271874]], dtype=float32)"
      ]
     },
     "execution_count": 40,
     "metadata": {},
     "output_type": "execute_result"
    },
    {
     "data": {
      "application/javascript": [
       "\n",
       "            setTimeout(function() {\n",
       "                var nbb_cell_id = 40;\n",
       "                var nbb_unformatted_code = \"single_item_model.predict(\\n    np.array(X_test[-1], ndmin=3)\\n)  # pass counties.index('countyname')\";\n",
       "                var nbb_formatted_code = \"single_item_model.predict(\\n    np.array(X_test[-1], ndmin=3)\\n)  # pass counties.index('countyname')\";\n",
       "                var nbb_cells = Jupyter.notebook.get_cells();\n",
       "                for (var i = 0; i < nbb_cells.length; ++i) {\n",
       "                    if (nbb_cells[i].input_prompt_number == nbb_cell_id) {\n",
       "                        if (nbb_cells[i].get_text() == nbb_unformatted_code) {\n",
       "                             nbb_cells[i].set_text(nbb_formatted_code);\n",
       "                        }\n",
       "                        break;\n",
       "                    }\n",
       "                }\n",
       "            }, 500);\n",
       "            "
      ],
      "text/plain": [
       "<IPython.core.display.Javascript object>"
      ]
     },
     "metadata": {},
     "output_type": "display_data"
    }
   ],
   "source": [
    "single_item_model.predict(\n",
    "    np.array(X_test[-1], ndmin=3)\n",
    ")  # pass counties.index('countyname')"
   ]
  }
 ],
 "metadata": {
  "kernelspec": {
   "display_name": "Celerative",
   "language": "python",
   "name": "celerative"
  },
  "language_info": {
   "codemirror_mode": {
    "name": "ipython",
    "version": 3
   },
   "file_extension": ".py",
   "mimetype": "text/x-python",
   "name": "python",
   "nbconvert_exporter": "python",
   "pygments_lexer": "ipython3",
   "version": "3.8.6rc1"
  }
 },
 "nbformat": 4,
 "nbformat_minor": 5
}
